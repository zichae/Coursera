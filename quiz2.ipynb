{
 "cells": [
  {
   "attachments": {},
   "cell_type": "markdown",
   "metadata": {},
   "source": [
    "QUIZ WEEK 2\n",
    "\n",
    "Complete the code to output the statement, “Diego’s favorite food is lasagna”. Remember that precise syntax must be used to receive credit."
   ]
  },
  {
   "cell_type": "code",
   "execution_count": 1,
   "metadata": {},
   "outputs": [
    {
     "name": "stdout",
     "output_type": "stream",
     "text": [
      "Diego’s favorite food is lasagna\n"
     ]
    }
   ],
   "source": [
    "name = \"Diego\"\n",
    "fav_food = \"lasagna\"\n",
    "print(name + \"’s favorite food is \" + fav_food) "
   ]
  },
  {
   "attachments": {},
   "cell_type": "markdown",
   "metadata": {},
   "source": [
    "In the following code, what would be the output?"
   ]
  },
  {
   "cell_type": "code",
   "execution_count": 2,
   "metadata": {},
   "outputs": [
    {
     "name": "stdout",
     "output_type": "stream",
     "text": [
      "7\n"
     ]
    }
   ],
   "source": [
    "number = 4\n",
    "if number * 4 < 15:\n",
    " print(number / 4)\n",
    "elif number < 5:\n",
    " print(number + 3)\n",
    "else:\n",
    " print(number * 2 % 5)"
   ]
  },
  {
   "attachments": {},
   "cell_type": "markdown",
   "metadata": {},
   "source": [
    "Fill in the blanks to complete the function. The fractional_part function divides the numerator by the denominator, and returns just the fractional part (a number between 0 and 1). Complete the body of the function so that it returns the right number. Note: Since division by 0 produces an error, if the denominator is 0, the function should return 0 instead of attempting the division."
   ]
  },
  {
   "cell_type": "code",
   "execution_count": 3,
   "metadata": {},
   "outputs": [
    {
     "name": "stdout",
     "output_type": "stream",
     "text": [
      "0.0\n",
      "0.25\n",
      "0.6666666666666666\n",
      "0.5\n",
      "0\n",
      "0\n"
     ]
    }
   ],
   "source": [
    "def fractional_part(numerator, denominator):\n",
    "    # Operate with numerator and denominator to\n",
    "    # keep just the fractional part of the quotient \n",
    "    if denominator == 0 or numerator == 0:\n",
    "        part = 0\n",
    "    else:\n",
    "        part = (numerator%denominator)/denominator\n",
    "    return part\n",
    "\n",
    "\n",
    "print(fractional_part(5, 5)) # Should print 0\n",
    "print(fractional_part(5, 4)) # Should print 0.25\n",
    "print(fractional_part(5, 3)) # Should print 0.66...\n",
    "print(fractional_part(5, 2)) # Should print 0.5\n",
    "print(fractional_part(5, 0)) # Should print 0\n",
    "print(fractional_part(0, 5)) # Should print 0"
   ]
  },
  {
   "attachments": {},
   "cell_type": "markdown",
   "metadata": {},
   "source": [
    "Fill in the blanks to complete the function.  The character translator function receives a single lowercase letter, then prints the numeric location of the letter in the English alphabet.  For example, “a” would return 1 and “b” would return 2. Currently, this function only supports the letters “a”, “b”, “c”, and “d” It returns \"unknown\" for all other letters or if the letter is uppercase."
   ]
  },
  {
   "cell_type": "code",
   "execution_count": 4,
   "metadata": {},
   "outputs": [
    {
     "name": "stdout",
     "output_type": "stream",
     "text": [
      "1\n",
      "2\n",
      "3\n",
      "4\n",
      "unknown\n",
      "unknown\n",
      "unknown\n"
     ]
    }
   ],
   "source": [
    "def letter_translator(letter):\n",
    "    if letter == \"a\":\n",
    "        letter_position = 1\n",
    "    elif letter == \"b\":\n",
    "        letter_position = 2\n",
    "    elif letter == \"c\":\n",
    "        letter_position = 3\n",
    "    elif letter == \"d\":\n",
    "        letter_position = 4\n",
    "    else:\n",
    "        letter_position = \"unknown\"\n",
    "    return letter_position\n",
    "\n",
    "\n",
    "print(letter_translator(\"a\")) # Should print 1\n",
    "print(letter_translator(\"b\")) # Should print 2\n",
    "print(letter_translator(\"c\")) # Should print 3\n",
    "print(letter_translator(\"d\")) # Should print 4\n",
    "print(letter_translator(\"e\")) # Should print unknown\n",
    "print(letter_translator(\"A\")) # Should print unknown\n",
    "print(letter_translator(\"\")) # Should print unknown"
   ]
  }
 ],
 "metadata": {
  "kernelspec": {
   "display_name": "Python 3",
   "language": "python",
   "name": "python3"
  },
  "language_info": {
   "codemirror_mode": {
    "name": "ipython",
    "version": 3
   },
   "file_extension": ".py",
   "mimetype": "text/x-python",
   "name": "python",
   "nbconvert_exporter": "python",
   "pygments_lexer": "ipython3",
   "version": "3.10.1"
  },
  "orig_nbformat": 4
 },
 "nbformat": 4,
 "nbformat_minor": 2
}
